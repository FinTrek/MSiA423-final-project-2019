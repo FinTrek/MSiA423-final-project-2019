{
 "cells": [
  {
   "cell_type": "code",
   "execution_count": 1,
   "metadata": {},
   "outputs": [
    {
     "name": "stderr",
     "output_type": "stream",
     "text": [
      "/anaconda/lib/python3.6/site-packages/sklearn/ensemble/weight_boosting.py:29: DeprecationWarning: numpy.core.umath_tests is an internal NumPy module and should not be imported. It will be removed in a future NumPy release.\n",
      "  from numpy.core.umath_tests import inner1d\n",
      "/anaconda/lib/python3.6/site-packages/lightgbm/__init__.py:46: UserWarning: Starting from version 2.2.1, the library file in distribution wheels for macOS is built by the Apple Clang (Xcode_9.4.1) compiler.\n",
      "This means that in case of installing LightGBM from PyPI via the ``pip install lightgbm`` command, you don't need to install the gcc compiler anymore.\n",
      "Instead of that, you need to install the OpenMP library, which is required for running LightGBM on the system with the Apple Clang compiler.\n",
      "You can install the OpenMP library by the following command: ``brew install libomp``.\n",
      "  \"You can install the OpenMP library by the following command: ``brew install libomp``.\", UserWarning)\n"
     ]
    }
   ],
   "source": [
    "import xgboost as xgb\n",
    "from xgboost import XGBClassifier \n",
    "from sklearn.model_selection import train_test_split\n",
    "from sklearn.metrics import confusion_matrix\n",
    "import pandas as pd\n",
    "import numpy as np\n",
    "import matplotlib.pyplot as plt\n",
    "from sklearn.ensemble import RandomForestClassifier\n",
    "from sklearn.metrics import roc_auc_score\n",
    "import lightgbm\n",
    "from lightgbm import LGBMClassifier"
   ]
  },
  {
   "cell_type": "code",
   "execution_count": 2,
   "metadata": {},
   "outputs": [
    {
     "data": {
      "text/html": [
       "<div>\n",
       "<style scoped>\n",
       "    .dataframe tbody tr th:only-of-type {\n",
       "        vertical-align: middle;\n",
       "    }\n",
       "\n",
       "    .dataframe tbody tr th {\n",
       "        vertical-align: top;\n",
       "    }\n",
       "\n",
       "    .dataframe thead th {\n",
       "        text-align: right;\n",
       "    }\n",
       "</style>\n",
       "<table border=\"1\" class=\"dataframe\">\n",
       "  <thead>\n",
       "    <tr style=\"text-align: right;\">\n",
       "      <th></th>\n",
       "      <th>SK_ID_CURR</th>\n",
       "      <th>TARGET</th>\n",
       "      <th>CODE_GENDER</th>\n",
       "      <th>FLAG_OWN_CAR</th>\n",
       "      <th>FLAG_OWN_REALTY</th>\n",
       "      <th>CNT_CHILDREN</th>\n",
       "      <th>AMT_INCOME_TOTAL</th>\n",
       "      <th>AMT_CREDIT</th>\n",
       "      <th>AMT_ANNUITY</th>\n",
       "      <th>AMT_GOODS_PRICE</th>\n",
       "      <th>...</th>\n",
       "      <th>CC_SK_DPD_MEAN</th>\n",
       "      <th>CC_SK_DPD_DEF_MEAN</th>\n",
       "      <th>CC_NAME_CONTRACT_STATUS_Active_MEAN</th>\n",
       "      <th>CC_NAME_CONTRACT_STATUS_Approved_MEAN</th>\n",
       "      <th>CC_NAME_CONTRACT_STATUS_Completed_MEAN</th>\n",
       "      <th>CC_NAME_CONTRACT_STATUS_Demand_MEAN</th>\n",
       "      <th>CC_NAME_CONTRACT_STATUS_Refused_MEAN</th>\n",
       "      <th>CC_NAME_CONTRACT_STATUS_Sent proposal_MEAN</th>\n",
       "      <th>CC_NAME_CONTRACT_STATUS_Signed_MEAN</th>\n",
       "      <th>CC_COUNT</th>\n",
       "    </tr>\n",
       "  </thead>\n",
       "  <tbody>\n",
       "    <tr>\n",
       "      <th>0</th>\n",
       "      <td>100002</td>\n",
       "      <td>1</td>\n",
       "      <td>0</td>\n",
       "      <td>0</td>\n",
       "      <td>0</td>\n",
       "      <td>0</td>\n",
       "      <td>202500.0</td>\n",
       "      <td>406597.5</td>\n",
       "      <td>24700.5</td>\n",
       "      <td>351000.0</td>\n",
       "      <td>...</td>\n",
       "      <td>NaN</td>\n",
       "      <td>NaN</td>\n",
       "      <td>NaN</td>\n",
       "      <td>NaN</td>\n",
       "      <td>NaN</td>\n",
       "      <td>NaN</td>\n",
       "      <td>NaN</td>\n",
       "      <td>NaN</td>\n",
       "      <td>NaN</td>\n",
       "      <td>NaN</td>\n",
       "    </tr>\n",
       "    <tr>\n",
       "      <th>1</th>\n",
       "      <td>100003</td>\n",
       "      <td>0</td>\n",
       "      <td>1</td>\n",
       "      <td>0</td>\n",
       "      <td>1</td>\n",
       "      <td>0</td>\n",
       "      <td>270000.0</td>\n",
       "      <td>1293502.5</td>\n",
       "      <td>35698.5</td>\n",
       "      <td>1129500.0</td>\n",
       "      <td>...</td>\n",
       "      <td>NaN</td>\n",
       "      <td>NaN</td>\n",
       "      <td>NaN</td>\n",
       "      <td>NaN</td>\n",
       "      <td>NaN</td>\n",
       "      <td>NaN</td>\n",
       "      <td>NaN</td>\n",
       "      <td>NaN</td>\n",
       "      <td>NaN</td>\n",
       "      <td>NaN</td>\n",
       "    </tr>\n",
       "    <tr>\n",
       "      <th>2</th>\n",
       "      <td>100004</td>\n",
       "      <td>0</td>\n",
       "      <td>0</td>\n",
       "      <td>1</td>\n",
       "      <td>0</td>\n",
       "      <td>0</td>\n",
       "      <td>67500.0</td>\n",
       "      <td>135000.0</td>\n",
       "      <td>6750.0</td>\n",
       "      <td>135000.0</td>\n",
       "      <td>...</td>\n",
       "      <td>NaN</td>\n",
       "      <td>NaN</td>\n",
       "      <td>NaN</td>\n",
       "      <td>NaN</td>\n",
       "      <td>NaN</td>\n",
       "      <td>NaN</td>\n",
       "      <td>NaN</td>\n",
       "      <td>NaN</td>\n",
       "      <td>NaN</td>\n",
       "      <td>NaN</td>\n",
       "    </tr>\n",
       "    <tr>\n",
       "      <th>3</th>\n",
       "      <td>100006</td>\n",
       "      <td>0</td>\n",
       "      <td>1</td>\n",
       "      <td>0</td>\n",
       "      <td>0</td>\n",
       "      <td>0</td>\n",
       "      <td>135000.0</td>\n",
       "      <td>312682.5</td>\n",
       "      <td>29686.5</td>\n",
       "      <td>297000.0</td>\n",
       "      <td>...</td>\n",
       "      <td>0.0</td>\n",
       "      <td>0.0</td>\n",
       "      <td>1.0</td>\n",
       "      <td>0.0</td>\n",
       "      <td>0.0</td>\n",
       "      <td>0.0</td>\n",
       "      <td>0.0</td>\n",
       "      <td>0.0</td>\n",
       "      <td>0.0</td>\n",
       "      <td>6.0</td>\n",
       "    </tr>\n",
       "    <tr>\n",
       "      <th>4</th>\n",
       "      <td>100007</td>\n",
       "      <td>0</td>\n",
       "      <td>0</td>\n",
       "      <td>0</td>\n",
       "      <td>0</td>\n",
       "      <td>0</td>\n",
       "      <td>121500.0</td>\n",
       "      <td>513000.0</td>\n",
       "      <td>21865.5</td>\n",
       "      <td>513000.0</td>\n",
       "      <td>...</td>\n",
       "      <td>NaN</td>\n",
       "      <td>NaN</td>\n",
       "      <td>NaN</td>\n",
       "      <td>NaN</td>\n",
       "      <td>NaN</td>\n",
       "      <td>NaN</td>\n",
       "      <td>NaN</td>\n",
       "      <td>NaN</td>\n",
       "      <td>NaN</td>\n",
       "      <td>NaN</td>\n",
       "    </tr>\n",
       "  </tbody>\n",
       "</table>\n",
       "<p>5 rows × 537 columns</p>\n",
       "</div>"
      ],
      "text/plain": [
       "   SK_ID_CURR  TARGET  CODE_GENDER  FLAG_OWN_CAR  FLAG_OWN_REALTY  \\\n",
       "0      100002       1            0             0                0   \n",
       "1      100003       0            1             0                1   \n",
       "2      100004       0            0             1                0   \n",
       "3      100006       0            1             0                0   \n",
       "4      100007       0            0             0                0   \n",
       "\n",
       "   CNT_CHILDREN  AMT_INCOME_TOTAL  AMT_CREDIT  AMT_ANNUITY  AMT_GOODS_PRICE  \\\n",
       "0             0          202500.0    406597.5      24700.5         351000.0   \n",
       "1             0          270000.0   1293502.5      35698.5        1129500.0   \n",
       "2             0           67500.0    135000.0       6750.0         135000.0   \n",
       "3             0          135000.0    312682.5      29686.5         297000.0   \n",
       "4             0          121500.0    513000.0      21865.5         513000.0   \n",
       "\n",
       "   ...  CC_SK_DPD_MEAN  CC_SK_DPD_DEF_MEAN  \\\n",
       "0  ...             NaN                 NaN   \n",
       "1  ...             NaN                 NaN   \n",
       "2  ...             NaN                 NaN   \n",
       "3  ...             0.0                 0.0   \n",
       "4  ...             NaN                 NaN   \n",
       "\n",
       "   CC_NAME_CONTRACT_STATUS_Active_MEAN  CC_NAME_CONTRACT_STATUS_Approved_MEAN  \\\n",
       "0                                  NaN                                    NaN   \n",
       "1                                  NaN                                    NaN   \n",
       "2                                  NaN                                    NaN   \n",
       "3                                  1.0                                    0.0   \n",
       "4                                  NaN                                    NaN   \n",
       "\n",
       "   CC_NAME_CONTRACT_STATUS_Completed_MEAN  \\\n",
       "0                                     NaN   \n",
       "1                                     NaN   \n",
       "2                                     NaN   \n",
       "3                                     0.0   \n",
       "4                                     NaN   \n",
       "\n",
       "   CC_NAME_CONTRACT_STATUS_Demand_MEAN  CC_NAME_CONTRACT_STATUS_Refused_MEAN  \\\n",
       "0                                  NaN                                   NaN   \n",
       "1                                  NaN                                   NaN   \n",
       "2                                  NaN                                   NaN   \n",
       "3                                  0.0                                   0.0   \n",
       "4                                  NaN                                   NaN   \n",
       "\n",
       "   CC_NAME_CONTRACT_STATUS_Sent proposal_MEAN  \\\n",
       "0                                         NaN   \n",
       "1                                         NaN   \n",
       "2                                         NaN   \n",
       "3                                         0.0   \n",
       "4                                         NaN   \n",
       "\n",
       "   CC_NAME_CONTRACT_STATUS_Signed_MEAN  CC_COUNT  \n",
       "0                                  NaN       NaN  \n",
       "1                                  NaN       NaN  \n",
       "2                                  NaN       NaN  \n",
       "3                                  0.0       6.0  \n",
       "4                                  NaN       NaN  \n",
       "\n",
       "[5 rows x 537 columns]"
      ]
     },
     "execution_count": 2,
     "metadata": {},
     "output_type": "execute_result"
    }
   ],
   "source": [
    "df = pd.read_csv('/Users/zhangyueying/Desktop/S_Analytics_Value_Chain/project/features.csv')\n",
    "df.head()"
   ]
  },
  {
   "cell_type": "code",
   "execution_count": 3,
   "metadata": {},
   "outputs": [
    {
     "data": {
      "text/html": [
       "<div>\n",
       "<style scoped>\n",
       "    .dataframe tbody tr th:only-of-type {\n",
       "        vertical-align: middle;\n",
       "    }\n",
       "\n",
       "    .dataframe tbody tr th {\n",
       "        vertical-align: top;\n",
       "    }\n",
       "\n",
       "    .dataframe thead th {\n",
       "        text-align: right;\n",
       "    }\n",
       "</style>\n",
       "<table border=\"1\" class=\"dataframe\">\n",
       "  <thead>\n",
       "    <tr style=\"text-align: right;\">\n",
       "      <th></th>\n",
       "      <th>SK_ID_CURR</th>\n",
       "      <th>TARGET</th>\n",
       "      <th>CODE_GENDER</th>\n",
       "      <th>FLAG_OWN_CAR</th>\n",
       "      <th>FLAG_OWN_REALTY</th>\n",
       "      <th>CNT_CHILDREN</th>\n",
       "      <th>AMT_INCOME_TOTAL</th>\n",
       "      <th>AMT_CREDIT</th>\n",
       "      <th>AMT_ANNUITY</th>\n",
       "      <th>AMT_GOODS_PRICE</th>\n",
       "      <th>...</th>\n",
       "      <th>CC_SK_DPD_MEAN</th>\n",
       "      <th>CC_SK_DPD_DEF_MEAN</th>\n",
       "      <th>CC_NAME_CONTRACT_STATUS_Active_MEAN</th>\n",
       "      <th>CC_NAME_CONTRACT_STATUS_Approved_MEAN</th>\n",
       "      <th>CC_NAME_CONTRACT_STATUS_Completed_MEAN</th>\n",
       "      <th>CC_NAME_CONTRACT_STATUS_Demand_MEAN</th>\n",
       "      <th>CC_NAME_CONTRACT_STATUS_Refused_MEAN</th>\n",
       "      <th>CC_NAME_CONTRACT_STATUS_Sent proposal_MEAN</th>\n",
       "      <th>CC_NAME_CONTRACT_STATUS_Signed_MEAN</th>\n",
       "      <th>CC_COUNT</th>\n",
       "    </tr>\n",
       "  </thead>\n",
       "  <tbody>\n",
       "    <tr>\n",
       "      <th>0</th>\n",
       "      <td>100002</td>\n",
       "      <td>1</td>\n",
       "      <td>0</td>\n",
       "      <td>0</td>\n",
       "      <td>0</td>\n",
       "      <td>0</td>\n",
       "      <td>202500.0</td>\n",
       "      <td>406597.5</td>\n",
       "      <td>24700.5</td>\n",
       "      <td>351000.0</td>\n",
       "      <td>...</td>\n",
       "      <td>NaN</td>\n",
       "      <td>NaN</td>\n",
       "      <td>NaN</td>\n",
       "      <td>NaN</td>\n",
       "      <td>NaN</td>\n",
       "      <td>NaN</td>\n",
       "      <td>NaN</td>\n",
       "      <td>NaN</td>\n",
       "      <td>NaN</td>\n",
       "      <td>NaN</td>\n",
       "    </tr>\n",
       "    <tr>\n",
       "      <th>1</th>\n",
       "      <td>100003</td>\n",
       "      <td>0</td>\n",
       "      <td>1</td>\n",
       "      <td>0</td>\n",
       "      <td>1</td>\n",
       "      <td>0</td>\n",
       "      <td>270000.0</td>\n",
       "      <td>1293502.5</td>\n",
       "      <td>35698.5</td>\n",
       "      <td>1129500.0</td>\n",
       "      <td>...</td>\n",
       "      <td>NaN</td>\n",
       "      <td>NaN</td>\n",
       "      <td>NaN</td>\n",
       "      <td>NaN</td>\n",
       "      <td>NaN</td>\n",
       "      <td>NaN</td>\n",
       "      <td>NaN</td>\n",
       "      <td>NaN</td>\n",
       "      <td>NaN</td>\n",
       "      <td>NaN</td>\n",
       "    </tr>\n",
       "    <tr>\n",
       "      <th>2</th>\n",
       "      <td>100004</td>\n",
       "      <td>0</td>\n",
       "      <td>0</td>\n",
       "      <td>1</td>\n",
       "      <td>0</td>\n",
       "      <td>0</td>\n",
       "      <td>67500.0</td>\n",
       "      <td>135000.0</td>\n",
       "      <td>6750.0</td>\n",
       "      <td>135000.0</td>\n",
       "      <td>...</td>\n",
       "      <td>NaN</td>\n",
       "      <td>NaN</td>\n",
       "      <td>NaN</td>\n",
       "      <td>NaN</td>\n",
       "      <td>NaN</td>\n",
       "      <td>NaN</td>\n",
       "      <td>NaN</td>\n",
       "      <td>NaN</td>\n",
       "      <td>NaN</td>\n",
       "      <td>NaN</td>\n",
       "    </tr>\n",
       "    <tr>\n",
       "      <th>3</th>\n",
       "      <td>100006</td>\n",
       "      <td>0</td>\n",
       "      <td>1</td>\n",
       "      <td>0</td>\n",
       "      <td>0</td>\n",
       "      <td>0</td>\n",
       "      <td>135000.0</td>\n",
       "      <td>312682.5</td>\n",
       "      <td>29686.5</td>\n",
       "      <td>297000.0</td>\n",
       "      <td>...</td>\n",
       "      <td>0.0</td>\n",
       "      <td>0.0</td>\n",
       "      <td>1.0</td>\n",
       "      <td>0.0</td>\n",
       "      <td>0.0</td>\n",
       "      <td>0.0</td>\n",
       "      <td>0.0</td>\n",
       "      <td>0.0</td>\n",
       "      <td>0.0</td>\n",
       "      <td>6.0</td>\n",
       "    </tr>\n",
       "    <tr>\n",
       "      <th>4</th>\n",
       "      <td>100007</td>\n",
       "      <td>0</td>\n",
       "      <td>0</td>\n",
       "      <td>0</td>\n",
       "      <td>0</td>\n",
       "      <td>0</td>\n",
       "      <td>121500.0</td>\n",
       "      <td>513000.0</td>\n",
       "      <td>21865.5</td>\n",
       "      <td>513000.0</td>\n",
       "      <td>...</td>\n",
       "      <td>NaN</td>\n",
       "      <td>NaN</td>\n",
       "      <td>NaN</td>\n",
       "      <td>NaN</td>\n",
       "      <td>NaN</td>\n",
       "      <td>NaN</td>\n",
       "      <td>NaN</td>\n",
       "      <td>NaN</td>\n",
       "      <td>NaN</td>\n",
       "      <td>NaN</td>\n",
       "    </tr>\n",
       "  </tbody>\n",
       "</table>\n",
       "<p>5 rows × 534 columns</p>\n",
       "</div>"
      ],
      "text/plain": [
       "   SK_ID_CURR  TARGET  CODE_GENDER  FLAG_OWN_CAR  FLAG_OWN_REALTY  \\\n",
       "0      100002       1            0             0                0   \n",
       "1      100003       0            1             0                1   \n",
       "2      100004       0            0             1                0   \n",
       "3      100006       0            1             0                0   \n",
       "4      100007       0            0             0                0   \n",
       "\n",
       "   CNT_CHILDREN  AMT_INCOME_TOTAL  AMT_CREDIT  AMT_ANNUITY  AMT_GOODS_PRICE  \\\n",
       "0             0          202500.0    406597.5      24700.5         351000.0   \n",
       "1             0          270000.0   1293502.5      35698.5        1129500.0   \n",
       "2             0           67500.0    135000.0       6750.0         135000.0   \n",
       "3             0          135000.0    312682.5      29686.5         297000.0   \n",
       "4             0          121500.0    513000.0      21865.5         513000.0   \n",
       "\n",
       "   ...  CC_SK_DPD_MEAN  CC_SK_DPD_DEF_MEAN  \\\n",
       "0  ...             NaN                 NaN   \n",
       "1  ...             NaN                 NaN   \n",
       "2  ...             NaN                 NaN   \n",
       "3  ...             0.0                 0.0   \n",
       "4  ...             NaN                 NaN   \n",
       "\n",
       "   CC_NAME_CONTRACT_STATUS_Active_MEAN  CC_NAME_CONTRACT_STATUS_Approved_MEAN  \\\n",
       "0                                  NaN                                    NaN   \n",
       "1                                  NaN                                    NaN   \n",
       "2                                  NaN                                    NaN   \n",
       "3                                  1.0                                    0.0   \n",
       "4                                  NaN                                    NaN   \n",
       "\n",
       "   CC_NAME_CONTRACT_STATUS_Completed_MEAN  \\\n",
       "0                                     NaN   \n",
       "1                                     NaN   \n",
       "2                                     NaN   \n",
       "3                                     0.0   \n",
       "4                                     NaN   \n",
       "\n",
       "   CC_NAME_CONTRACT_STATUS_Demand_MEAN  CC_NAME_CONTRACT_STATUS_Refused_MEAN  \\\n",
       "0                                  NaN                                   NaN   \n",
       "1                                  NaN                                   NaN   \n",
       "2                                  NaN                                   NaN   \n",
       "3                                  0.0                                   0.0   \n",
       "4                                  NaN                                   NaN   \n",
       "\n",
       "   CC_NAME_CONTRACT_STATUS_Sent proposal_MEAN  \\\n",
       "0                                         NaN   \n",
       "1                                         NaN   \n",
       "2                                         NaN   \n",
       "3                                         0.0   \n",
       "4                                         NaN   \n",
       "\n",
       "   CC_NAME_CONTRACT_STATUS_Signed_MEAN  CC_COUNT  \n",
       "0                                  NaN       NaN  \n",
       "1                                  NaN       NaN  \n",
       "2                                  NaN       NaN  \n",
       "3                                  0.0       6.0  \n",
       "4                                  NaN       NaN  \n",
       "\n",
       "[5 rows x 534 columns]"
      ]
     },
     "execution_count": 3,
     "metadata": {},
     "output_type": "execute_result"
    }
   ],
   "source": [
    "df = df.drop(['EXT_SOURCE_1', 'EXT_SOURCE_2','EXT_SOURCE_3'], axis=1)\n",
    "df.head()"
   ]
  },
  {
   "cell_type": "markdown",
   "metadata": {},
   "source": [
    "# Data Split"
   ]
  },
  {
   "cell_type": "markdown",
   "metadata": {},
   "source": [
    "Split data into train, validation and test\n",
    "- train: training model (60%)\n",
    "- validation: hyperparameter selection (20%)\n",
    "- test: model performance comparison (20%)"
   ]
  },
  {
   "cell_type": "code",
   "execution_count": 4,
   "metadata": {
    "collapsed": true
   },
   "outputs": [],
   "source": [
    "X, y = df.iloc[:,2:], df.iloc[:,1]"
   ]
  },
  {
   "cell_type": "code",
   "execution_count": 5,
   "metadata": {},
   "outputs": [
    {
     "name": "stdout",
     "output_type": "stream",
     "text": [
      "(184504, 532)\n",
      "(61501, 532)\n",
      "(61502, 532)\n"
     ]
    }
   ],
   "source": [
    "# Split data into train, validation and test\n",
    "# train: training model (70%)\n",
    "# test: model performance comparison (30%)\n",
    "X_train, X_tmp, y_train, y_tmp = train_test_split(X, y, test_size=0.4, random_state=123)\n",
    "X_val, X_test, y_val, y_test = train_test_split(X_tmp, y_tmp, test_size=0.5, random_state=123)\n",
    "\n",
    "print(X_train.shape)\n",
    "print(X_val.shape)\n",
    "print(X_test.shape)"
   ]
  },
  {
   "cell_type": "markdown",
   "metadata": {},
   "source": [
    "# Feature Selection"
   ]
  },
  {
   "cell_type": "markdown",
   "metadata": {},
   "source": [
    "Use random forest embedded feature importance to select top 30 features"
   ]
  },
  {
   "cell_type": "code",
   "execution_count": 6,
   "metadata": {
    "collapsed": true
   },
   "outputs": [],
   "source": [
    "def feature_selection(X_train, y_train):\n",
    "    \"\"\" Select top 10 features from around 500 features using random forest\n",
    "    Args:\n",
    "        X_train (dataframe): dataframe of train sets only with features\n",
    "        y_train (dataframe): dataframe of train sets only with y label\n",
    "    Return:\n",
    "        selected_feature (list): list of 15 top features selected by random forest   \n",
    "    \"\"\"\n",
    "    # train a random forest model using all features and 100 trees\n",
    "    rf = RandomForestClassifier(n_estimators=100)\n",
    "    rf.fit(X_train, y_train)\n",
    "    \n",
    "    # get feature importance and select the top 15\n",
    "    feature_importance = pd.DataFrame(rf.feature_importances_, index = X_train.columns,\n",
    "                                    columns=['importance']).sort_values('importance',ascending=False)\n",
    "    selected_feature = feature_importance.index.tolist()[:15]\n",
    "    print(selected_feature)\n",
    "    \n",
    "    # print the percertage importance accounted by the top 15 features\n",
    "    print(sum(feature_importance['importance'][:15]))\n",
    "    \n",
    "    return selected_feature"
   ]
  },
  {
   "cell_type": "code",
   "execution_count": 7,
   "metadata": {},
   "outputs": [
    {
     "name": "stdout",
     "output_type": "stream",
     "text": [
      "['DAYS_BIRTH', 'DAYS_EMPLOYED', 'DAYS_EMPLOYED_PERC', 'DAYS_REGISTRATION', 'BURO_DAYS_CREDIT_MEAN', 'DAYS_ID_PUBLISH', 'ANNUITY_INCOME_PERC', 'INSTAL_DAYS_ENTRY_PAYMENT_MEAN', 'INSTAL_DBD_MEAN', 'PAYMENT_RATE', 'INCOME_CREDIT_PERC', 'INSTAL_AMT_PAYMENT_MEAN', 'APPROVED_DAYS_DECISION_MEAN', 'DAYS_LAST_PHONE_CHANGE', 'BURO_DAYS_CREDIT_ENDDATE_MEAN']\n",
      "0.12344353558837148\n"
     ]
    }
   ],
   "source": [
    "# replace NA and infinite with mean for random forest (rf cannot deal with NA and Inf)\n",
    "X_train1 = X_train\n",
    "X_train1 = X_train1.replace([np.inf, -np.inf], np.nan)\n",
    "X_train1 = X_train1.apply(lambda x: x.fillna(x.mean()),axis=0)\n",
    "\n",
    "selected_feature = feature_selection(X_train1, y_train)"
   ]
  },
  {
   "cell_type": "code",
   "execution_count": 8,
   "metadata": {},
   "outputs": [
    {
     "data": {
      "text/plain": [
       "['DAYS_BIRTH',\n",
       " 'DAYS_EMPLOYED',\n",
       " 'DAYS_EMPLOYED_PERC',\n",
       " 'BURO_DAYS_CREDIT_MEAN',\n",
       " 'DAYS_ID_PUBLISH',\n",
       " 'ANNUITY_INCOME_PERC',\n",
       " 'INSTAL_DAYS_ENTRY_PAYMENT_MEAN',\n",
       " 'INSTAL_DBD_MEAN',\n",
       " 'PAYMENT_RATE',\n",
       " 'INCOME_CREDIT_PERC',\n",
       " 'INSTAL_AMT_PAYMENT_MEAN',\n",
       " 'APPROVED_DAYS_DECISION_MEAN',\n",
       " 'DAYS_LAST_PHONE_CHANGE',\n",
       " 'BURO_DAYS_CREDIT_ENDDATE_MEAN']"
      ]
     },
     "execution_count": 8,
     "metadata": {},
     "output_type": "execute_result"
    }
   ],
   "source": [
    "selected_feature = ['DAYS_BIRTH', 'DAYS_EMPLOYED', 'DAYS_EMPLOYED_PERC', \n",
    "                    'BURO_DAYS_CREDIT_MEAN', 'DAYS_ID_PUBLISH', 'ANNUITY_INCOME_PERC', \n",
    "                    'INSTAL_DAYS_ENTRY_PAYMENT_MEAN', 'INSTAL_DBD_MEAN', 'PAYMENT_RATE', \n",
    "                    'INCOME_CREDIT_PERC', 'INSTAL_AMT_PAYMENT_MEAN', 'APPROVED_DAYS_DECISION_MEAN', \n",
    "                    'DAYS_LAST_PHONE_CHANGE', 'BURO_DAYS_CREDIT_ENDDATE_MEAN']\n",
    "selected_feature"
   ]
  },
  {
   "cell_type": "markdown",
   "metadata": {},
   "source": [
    "# Hyperparamter Tuning"
   ]
  },
  {
   "cell_type": "markdown",
   "metadata": {},
   "source": [
    "- Random Forest\n",
    "- Xgboost"
   ]
  },
  {
   "cell_type": "code",
   "execution_count": 22,
   "metadata": {
    "collapsed": true
   },
   "outputs": [],
   "source": [
    "def rf_tuning(X_train, y_train, X_val, y_val):\n",
    "    \"\"\"Hyperparamter tuning of random forest model\n",
    "    Args:\n",
    "        X_train (dataframe): dataframe of train set with only selected features\n",
    "        y_train (dataframe): dataframe of train set with only y label\n",
    "        X_val (dataframe): dataframe of validation set with only selected features to compare the model performance with different hyperparameters\n",
    "        y_val (dataframe): dataframe of validation set with only y label\n",
    "    Return:\n",
    "        aucs (list): list with different hyperparameter combinations and auc score    \n",
    "    \"\"\"\n",
    "    \n",
    "    # Hyperparamter to try\n",
    "    depths = [3, 5, 7]\n",
    "    trees = [100, 200, 300]\n",
    "    features = [3, 5, 7]\n",
    "    aucs = []\n",
    "    for depth in depths:\n",
    "        for tree in trees:\n",
    "            for feature in features:\n",
    "                # Train a random forest model \n",
    "                rf = RandomForestClassifier(n_estimators=tree, max_depth=depth, max_features=feature)\n",
    "                rf.fit(X_train, y_train)\n",
    "                \n",
    "                # Predict using validation set\n",
    "                y_pred_rf = rf.predict_proba(X_val)[:, 1]\n",
    "                print([depth, tree, feature, roc_auc_score(y_val, y_pred_rf)])\n",
    "                aucs.append([depth, tree, feature, roc_auc_score(y_val, y_pred_rf)])\n",
    "                \n",
    "    return aucs"
   ]
  },
  {
   "cell_type": "code",
   "execution_count": 6,
   "metadata": {
    "collapsed": true
   },
   "outputs": [],
   "source": [
    "def xgb_tuning(X_train, y_train, X_val, y_val):\n",
    "    \"\"\"Hyperparamter tuning of xgboost model\n",
    "    Args:\n",
    "        X_train (dataframe): dataframe of train set with only selected features\n",
    "        y_train (dataframe): dataframe of train set with only y label\n",
    "        X_val (dataframe): dataframe of validation set with only selected features to compare the model performance with different hyperparameters\n",
    "        y_val (dataframe): dataframe of validation set with only y label\n",
    "    Return:\n",
    "        aucs (list): list with different hyperparameter combinations and auc score    \n",
    "    \"\"\"\n",
    "    \n",
    "    # Hyperparamter to try\n",
    "    trees = [100, 200, 300]\n",
    "    alphas = [0.1, 0.2, 0.5]\n",
    "    depths = [3, 4, 5]\n",
    "    aucs = []\n",
    "    for tree in trees:\n",
    "        for alpha in alphas:\n",
    "            for depth in depths:\n",
    "                # Train a xgboost model\n",
    "                xgboost = xgb.XGBClassifier(objective ='binary:logistic', n_estimators=tree, learning_rate =alpha, \n",
    "                               max_depth =depth).fit(X_train, y_train)\n",
    "                \n",
    "                # Predict using validation set\n",
    "                y_pred_xgb = xgboost.predict_proba(X_val)[:, 1]\n",
    "                print([tree, alpha, depth, roc_auc_score(y_val, y_pred_xgb)])\n",
    "                aucs.append([tree, alpha, depth, roc_auc_score(y_val, y_pred_xgb)])\n",
    "\n",
    "    return aucs"
   ]
  },
  {
   "cell_type": "code",
   "execution_count": 24,
   "metadata": {},
   "outputs": [
    {
     "name": "stdout",
     "output_type": "stream",
     "text": [
      "random forest\n",
      "[3, 100, 3, 0.63684767354340899]\n",
      "[3, 100, 5, 0.63528078558708656]\n",
      "[3, 100, 7, 0.63556884324903429]\n",
      "[3, 200, 3, 0.63428252700048859]\n",
      "[3, 200, 5, 0.6361838202687955]\n",
      "[3, 200, 7, 0.63447383432191795]\n",
      "[3, 300, 3, 0.6368038384492144]\n",
      "[3, 300, 5, 0.63749526564220438]\n",
      "[3, 300, 7, 0.63602612662914804]\n",
      "[5, 100, 3, 0.64757945398812655]\n",
      "[5, 100, 5, 0.65160852006152625]\n",
      "[5, 100, 7, 0.65374789984034409]\n",
      "[5, 200, 3, 0.64992539831178642]\n",
      "[5, 200, 5, 0.65161769294105332]\n",
      "[5, 200, 7, 0.65404588824997578]\n",
      "[5, 300, 3, 0.65029487062919511]\n",
      "[5, 300, 5, 0.65201088207372471]\n",
      "[5, 300, 7, 0.65299144755949301]\n",
      "[7, 100, 3, 0.65776723488660926]\n",
      "[7, 100, 5, 0.66230573458541286]\n",
      "[7, 100, 7, 0.66383187954962075]\n",
      "[7, 200, 3, 0.65885933538322228]\n",
      "[7, 200, 5, 0.66211766915647574]\n",
      "[7, 200, 7, 0.66662123915773308]\n",
      "[7, 300, 3, 0.66000726668953891]\n",
      "[7, 300, 5, 0.66174292385991429]\n",
      "[7, 300, 7, 0.6658836034058031]\n"
     ]
    }
   ],
   "source": [
    "# preprocess validation set since rf cannot take NA or inf\n",
    "X_val1 = X_val[selected_feature]\n",
    "X_val1 = X_val1.replace([np.inf, -np.inf], np.nan)\n",
    "X_val1 = X_val1.apply(lambda x: x.fillna(x.mean()),axis=0)\n",
    "\n",
    "print('random forest')\n",
    "auc_rf = rf_tuning(X_train1[selected_feature], y_train, X_val1, y_val)"
   ]
  },
  {
   "cell_type": "code",
   "execution_count": 9,
   "metadata": {},
   "outputs": [
    {
     "name": "stdout",
     "output_type": "stream",
     "text": [
      "xgboost\n",
      "[100, 0.1, 3, 0.68859932298014814]\n",
      "[100, 0.1, 4, 0.69635189160218536]\n",
      "[100, 0.1, 5, 0.70134203792523475]\n",
      "[100, 0.2, 3, 0.69842968255652638]\n",
      "[100, 0.2, 4, 0.70503196245647404]\n",
      "[100, 0.2, 5, 0.70775180148114036]\n",
      "[100, 0.5, 3, 0.70213159210395959]\n",
      "[100, 0.5, 4, 0.69874197951696004]\n",
      "[100, 0.5, 5, 0.68568670904465678]\n",
      "[200, 0.1, 3, 0.69947832956785216]\n",
      "[200, 0.1, 4, 0.70363361546214809]\n",
      "[200, 0.1, 5, 0.70566651565653249]\n",
      "[200, 0.2, 3, 0.70596112129935562]\n",
      "[200, 0.2, 4, 0.70696591538429487]\n",
      "[200, 0.2, 5, 0.70543600604437129]\n",
      "[200, 0.5, 3, 0.70024616948646767]\n",
      "[200, 0.5, 4, 0.69263729088375758]\n",
      "[200, 0.5, 5, 0.67727597918366922]\n",
      "[300, 0.1, 3, 0.7047549518374252]\n",
      "[300, 0.1, 4, 0.70632553640713391]\n",
      "[300, 0.1, 5, 0.70715966036636058]\n",
      "[300, 0.2, 3, 0.70823082943608995]\n",
      "[300, 0.2, 4, 0.70761304741253861]\n",
      "[300, 0.2, 5, 0.70414225555501131]\n",
      "[300, 0.5, 3, 0.69746397128663307]\n",
      "[300, 0.5, 4, 0.68603966340268374]\n",
      "[300, 0.5, 5, 0.67074985344256421]\n"
     ]
    }
   ],
   "source": [
    "print('xgboost')\n",
    "auc_xgb = xgb_tuning(X_train[selected_feature], y_train, X_val[selected_feature], y_val)"
   ]
  },
  {
   "cell_type": "markdown",
   "metadata": {},
   "source": [
    "# Model Comparison"
   ]
  },
  {
   "cell_type": "markdown",
   "metadata": {},
   "source": [
    "- Random Forest\n",
    "- Xgboost\n",
    "- LightGBM (LightGBM best hyperparamter comes from Kaggle Kernel)\n",
    "\n",
    "Comparison metric: AUC"
   ]
  },
  {
   "cell_type": "code",
   "execution_count": 19,
   "metadata": {
    "collapsed": true
   },
   "outputs": [],
   "source": [
    "def randomForest(X_train, y_train, X_test, y_test):\n",
    "    \"\"\"Random forest model training and predicting\n",
    "    Args:\n",
    "        X_train (dataframe): dataframe of train set with only selected features\n",
    "        y_train (dataframe): dataframe of train set with only y label\n",
    "        X_test (dataframe): dataframe of test set with only selected features used for prediction\n",
    "        y_test (dataframe): dataframe of test set with only y label to compare with model prediction\n",
    "    Return:\n",
    "        rf_fit (a random forest classifier): random forest model trained using X_train and y_train    \n",
    "    \"\"\"\n",
    "    \n",
    "    # Train random forest model\n",
    "    rf = RandomForestClassifier(n_estimators=200, max_depth=7, max_features=3)\n",
    "    rf_fit = rf.fit(X_train, y_train)\n",
    "\n",
    "    # Predict probability of late payment and print auc on test set\n",
    "    y_pred_rf = rf_fit.predict_proba(X_test)[:, 1]\n",
    "    print('auc of random forest: ', roc_auc_score(y_test, y_pred_rf))\n",
    "    \n",
    "    return rf_fit"
   ]
  },
  {
   "cell_type": "code",
   "execution_count": 8,
   "metadata": {
    "collapsed": true
   },
   "outputs": [],
   "source": [
    "def xgboost(X_train, y_train, X_test, y_test):\n",
    "    \"\"\"Xgboost model training and predicting\n",
    "    Args:\n",
    "        X_train (dataframe): dataframe of train set with only selected features\n",
    "        y_train (dataframe): dataframe of train set with only y label\n",
    "        X_test (dataframe): dataframe of test set with only selected features used for prediction\n",
    "        y_test (dataframe): dataframe of test set with only y label to compare with model prediction\n",
    "    Return:\n",
    "        xgb_fit (a xgboost classifier): xgboost model trained using X_train and y_train    \n",
    "    \"\"\"\n",
    "    \n",
    "    # Train xgboost model\n",
    "    xgb_fit = xgb.XGBClassifier(objective ='binary:logistic', n_estimators=300, learning_rate =0.2, \n",
    "                               max_depth =3).fit(X_train, y_train)\n",
    "    \n",
    "    # Predict probability of late payment and print auc on test set\n",
    "    y_pred_xgb = xgb_fit.predict_proba(X_test)[:, 1]\n",
    "    print('auc of xgboost: ', roc_auc_score(y_test, y_pred_xgb))\n",
    "    \n",
    "    return xgb_fit"
   ]
  },
  {
   "cell_type": "code",
   "execution_count": 86,
   "metadata": {
    "collapsed": true
   },
   "outputs": [],
   "source": [
    "def lightGBM(X_train, y_train, X_test, y_test):    \n",
    "    \"\"\"LightGBM training and predicting\n",
    "    Args:\n",
    "        X_train (dataframe): dataframe of train set with only selected features\n",
    "        y_train (dataframe): dataframe of train set with only y label\n",
    "        X_test (dataframe): dataframe of test set with only selected features used for prediction\n",
    "        y_test (dataframe): dataframe of test set with only y label to compare with model prediction\n",
    "    Return:\n",
    "        lgbm_fit (a lightGBM classifier): lightGBM model trained using X_train and y_train    \n",
    "    \"\"\"\n",
    "    # Train lightGBM model\n",
    "    # Parameters from Tilii kernel: https://www.kaggle.com/tilii7/olivier-lightgbm-parameters-by-bayesian-opt/code\n",
    "    lgbm = LGBMClassifier(nthread=4,n_estimators=10000,learning_rate=0.02,\n",
    "                num_leaves=34,colsample_bytree=0.9497036,subsample=0.8715623,\n",
    "                max_depth=8,reg_alpha=0.041545473,reg_lambda=0.0735294,\n",
    "                min_split_gain=0.0222415,min_child_weight=39.3259775,silent=-1,\n",
    "                verbose=-1)\n",
    "\n",
    "    lgbm_fit = lgbm.fit(X_train, y_train, eval_set=[(X_test, y_test)], \n",
    "                eval_metric= 'auc', verbose= 50, early_stopping_rounds= 20)\n",
    "    \n",
    "    # Predict probability of late payment and print acu on test set\n",
    "    y_pred_lgbm = lgbm_fit.predict_proba(X_test)[:, 1]\n",
    "    print('auc of lightGBM: ', roc_auc_score(y_test, y_pred_lgbm))\n",
    "    \n",
    "    return lgbm_fit"
   ]
  },
  {
   "cell_type": "code",
   "execution_count": 9,
   "metadata": {},
   "outputs": [
    {
     "name": "stdout",
     "output_type": "stream",
     "text": [
      "auc of xgboost:  0.701724828399304\n"
     ]
    }
   ],
   "source": [
    "# preprocess test set since rf cannot take NA or inf\n",
    "#X_test1 = X_test[selected_feature]\n",
    "#X_test1 = X_test1.replace([np.inf, -np.inf], np.nan)\n",
    "#X_test1 = X_test1.apply(lambda x: x.fillna(x.mean()),axis=0)\n",
    "\n",
    "# random forest prediction\n",
    "#rf_fit = randomForest(X_train1[selected_feature], y_train, X_test1, y_test)\n",
    "\n",
    "# xgboost prediction\n",
    "xgb_fit = xgboost(X_train[selected_feature], y_train, X_test[selected_feature], y_test)\n",
    "\n",
    "# lightGBM prediction\n",
    "#lgbm_fit = lightGBM(X_train[selected_feature], y_train, X_test[selected_feature], y_test)"
   ]
  },
  {
   "cell_type": "markdown",
   "metadata": {},
   "source": [
    "# Model Evaluation\n",
    "\n",
    "- use 0.08 as threshold (~8% in the data have late payment)\n",
    "- metric: auc(displayed above), accuracy, true positive rate (among those with late payment, how many are predicted as late payment)"
   ]
  },
  {
   "cell_type": "code",
   "execution_count": 14,
   "metadata": {},
   "outputs": [
    {
     "name": "stderr",
     "output_type": "stream",
     "text": [
      "/anaconda/lib/python3.6/site-packages/ipykernel_launcher.py:7: SettingWithCopyWarning: \n",
      "A value is trying to be set on a copy of a slice from a DataFrame\n",
      "\n",
      "See the caveats in the documentation: http://pandas.pydata.org/pandas-docs/stable/indexing.html#indexing-view-versus-copy\n",
      "  import sys\n",
      "/anaconda/lib/python3.6/site-packages/ipykernel_launcher.py:8: SettingWithCopyWarning: \n",
      "A value is trying to be set on a copy of a slice from a DataFrame\n",
      "\n",
      "See the caveats in the documentation: http://pandas.pydata.org/pandas-docs/stable/indexing.html#indexing-view-versus-copy\n",
      "  \n"
     ]
    }
   ],
   "source": [
    "# threshold 0.08\n",
    "pd_test = pd.Series.to_frame(y_test).reset_index()\n",
    "y_pred_lgbm = xgb_fit.predict_proba(X_test[selected_feature])[:, 1]\n",
    "prediction = pd.DataFrame(y_pred_lgbm)\n",
    "prediction = prediction.rename(columns={0: \"ypred_proba_test\"})\n",
    "prediction['ypred_proba_bin'] = np.nan\n",
    "prediction['actual'] = pd_test['TARGET']\n",
    "prediction['ypred_proba_bin'][prediction['ypred_proba_test'] > 0.08] = 1\n",
    "prediction['ypred_proba_bin'][prediction['ypred_proba_test'] <= 0.08] = 0"
   ]
  },
  {
   "cell_type": "code",
   "execution_count": 15,
   "metadata": {},
   "outputs": [
    {
     "name": "stdout",
     "output_type": "stream",
     "text": [
      "accuracy:  0.6571168417287243\n"
     ]
    }
   ],
   "source": [
    "print('accuracy: ', sum(prediction['ypred_proba_bin']==prediction['actual']) / prediction.shape[0])"
   ]
  },
  {
   "cell_type": "code",
   "execution_count": 16,
   "metadata": {},
   "outputs": [
    {
     "data": {
      "text/html": [
       "<div>\n",
       "<style scoped>\n",
       "    .dataframe tbody tr th:only-of-type {\n",
       "        vertical-align: middle;\n",
       "    }\n",
       "\n",
       "    .dataframe tbody tr th {\n",
       "        vertical-align: top;\n",
       "    }\n",
       "\n",
       "    .dataframe thead th {\n",
       "        text-align: right;\n",
       "    }\n",
       "</style>\n",
       "<table border=\"1\" class=\"dataframe\">\n",
       "  <thead>\n",
       "    <tr style=\"text-align: right;\">\n",
       "      <th>Predicted</th>\n",
       "      <th>0.0</th>\n",
       "      <th>1.0</th>\n",
       "    </tr>\n",
       "    <tr>\n",
       "      <th>Actual</th>\n",
       "      <th></th>\n",
       "      <th></th>\n",
       "    </tr>\n",
       "  </thead>\n",
       "  <tbody>\n",
       "    <tr>\n",
       "      <th>0</th>\n",
       "      <td>37206</td>\n",
       "      <td>19257</td>\n",
       "    </tr>\n",
       "    <tr>\n",
       "      <th>1</th>\n",
       "      <td>1831</td>\n",
       "      <td>3208</td>\n",
       "    </tr>\n",
       "  </tbody>\n",
       "</table>\n",
       "</div>"
      ],
      "text/plain": [
       "Predicted    0.0    1.0\n",
       "Actual                 \n",
       "0          37206  19257\n",
       "1           1831   3208"
      ]
     },
     "execution_count": 16,
     "metadata": {},
     "output_type": "execute_result"
    }
   ],
   "source": [
    "y_actu = pd.Series(prediction['actual'], name='Actual')\n",
    "y_pred = pd.Series(prediction['ypred_proba_bin'], name='Predicted')\n",
    "df_confusion = pd.crosstab(y_actu, y_pred)\n",
    "df_confusion"
   ]
  },
  {
   "cell_type": "code",
   "execution_count": 17,
   "metadata": {},
   "outputs": [
    {
     "name": "stdout",
     "output_type": "stream",
     "text": [
      "true positive rate:  0.636634252828\n"
     ]
    }
   ],
   "source": [
    "print('true positive rate: ', df_confusion[1][1] / (df_confusion[1][1] + df_confusion[0][1]))"
   ]
  },
  {
   "cell_type": "code",
   "execution_count": 19,
   "metadata": {},
   "outputs": [
    {
     "name": "stdout",
     "output_type": "stream",
     "text": [
      "accuracy:  0.5127638125589412\n"
     ]
    },
    {
     "name": "stderr",
     "output_type": "stream",
     "text": [
      "/anaconda/lib/python3.6/site-packages/ipykernel_launcher.py:2: SettingWithCopyWarning: \n",
      "A value is trying to be set on a copy of a slice from a DataFrame\n",
      "\n",
      "See the caveats in the documentation: http://pandas.pydata.org/pandas-docs/stable/indexing.html#indexing-view-versus-copy\n",
      "  \n",
      "/anaconda/lib/python3.6/site-packages/ipykernel_launcher.py:3: SettingWithCopyWarning: \n",
      "A value is trying to be set on a copy of a slice from a DataFrame\n",
      "\n",
      "See the caveats in the documentation: http://pandas.pydata.org/pandas-docs/stable/indexing.html#indexing-view-versus-copy\n",
      "  This is separate from the ipykernel package so we can avoid doing imports until\n"
     ]
    }
   ],
   "source": [
    "# threshold 0.06 for risk averse\n",
    "prediction['ypred_proba_bin'][prediction['ypred_proba_test'] > 0.06] = 1\n",
    "prediction['ypred_proba_bin'][prediction['ypred_proba_test'] <= 0.06] = 0\n",
    "print('accuracy: ', sum(prediction['ypred_proba_bin']==prediction['actual']) / prediction.shape[0])"
   ]
  },
  {
   "cell_type": "code",
   "execution_count": 20,
   "metadata": {},
   "outputs": [
    {
     "data": {
      "text/html": [
       "<div>\n",
       "<style scoped>\n",
       "    .dataframe tbody tr th:only-of-type {\n",
       "        vertical-align: middle;\n",
       "    }\n",
       "\n",
       "    .dataframe tbody tr th {\n",
       "        vertical-align: top;\n",
       "    }\n",
       "\n",
       "    .dataframe thead th {\n",
       "        text-align: right;\n",
       "    }\n",
       "</style>\n",
       "<table border=\"1\" class=\"dataframe\">\n",
       "  <thead>\n",
       "    <tr style=\"text-align: right;\">\n",
       "      <th>Predicted</th>\n",
       "      <th>0.0</th>\n",
       "      <th>1.0</th>\n",
       "    </tr>\n",
       "    <tr>\n",
       "      <th>Actual</th>\n",
       "      <th></th>\n",
       "      <th></th>\n",
       "    </tr>\n",
       "  </thead>\n",
       "  <tbody>\n",
       "    <tr>\n",
       "      <th>0</th>\n",
       "      <td>27584</td>\n",
       "      <td>28879</td>\n",
       "    </tr>\n",
       "    <tr>\n",
       "      <th>1</th>\n",
       "      <td>1087</td>\n",
       "      <td>3952</td>\n",
       "    </tr>\n",
       "  </tbody>\n",
       "</table>\n",
       "</div>"
      ],
      "text/plain": [
       "Predicted    0.0    1.0\n",
       "Actual                 \n",
       "0          27584  28879\n",
       "1           1087   3952"
      ]
     },
     "execution_count": 20,
     "metadata": {},
     "output_type": "execute_result"
    }
   ],
   "source": [
    "y_actu = pd.Series(prediction['actual'], name='Actual')\n",
    "y_pred = pd.Series(prediction['ypred_proba_bin'], name='Predicted')\n",
    "df_confusion = pd.crosstab(y_actu, y_pred)\n",
    "df_confusion"
   ]
  },
  {
   "cell_type": "code",
   "execution_count": 21,
   "metadata": {},
   "outputs": [
    {
     "name": "stdout",
     "output_type": "stream",
     "text": [
      "true positive rate:  0.784282595753\n"
     ]
    }
   ],
   "source": [
    "print('true positive rate: ', df_confusion[1][1] / (df_confusion[1][1] + df_confusion[0][1]))"
   ]
  },
  {
   "cell_type": "code",
   "execution_count": 22,
   "metadata": {},
   "outputs": [
    {
     "name": "stdout",
     "output_type": "stream",
     "text": [
      "accuracy:  0.7479106370524535\n"
     ]
    },
    {
     "name": "stderr",
     "output_type": "stream",
     "text": [
      "/anaconda/lib/python3.6/site-packages/ipykernel_launcher.py:2: SettingWithCopyWarning: \n",
      "A value is trying to be set on a copy of a slice from a DataFrame\n",
      "\n",
      "See the caveats in the documentation: http://pandas.pydata.org/pandas-docs/stable/indexing.html#indexing-view-versus-copy\n",
      "  \n",
      "/anaconda/lib/python3.6/site-packages/ipykernel_launcher.py:3: SettingWithCopyWarning: \n",
      "A value is trying to be set on a copy of a slice from a DataFrame\n",
      "\n",
      "See the caveats in the documentation: http://pandas.pydata.org/pandas-docs/stable/indexing.html#indexing-view-versus-copy\n",
      "  This is separate from the ipykernel package so we can avoid doing imports until\n"
     ]
    }
   ],
   "source": [
    "# threshold 0.10 for risk loving\n",
    "prediction['ypred_proba_bin'][prediction['ypred_proba_test'] > 0.1] = 1\n",
    "prediction['ypred_proba_bin'][prediction['ypred_proba_test'] <= 0.1] = 0\n",
    "print('accuracy: ', sum(prediction['ypred_proba_bin']==prediction['actual']) / prediction.shape[0])"
   ]
  },
  {
   "cell_type": "code",
   "execution_count": 23,
   "metadata": {},
   "outputs": [
    {
     "data": {
      "text/html": [
       "<div>\n",
       "<style scoped>\n",
       "    .dataframe tbody tr th:only-of-type {\n",
       "        vertical-align: middle;\n",
       "    }\n",
       "\n",
       "    .dataframe tbody tr th {\n",
       "        vertical-align: top;\n",
       "    }\n",
       "\n",
       "    .dataframe thead th {\n",
       "        text-align: right;\n",
       "    }\n",
       "</style>\n",
       "<table border=\"1\" class=\"dataframe\">\n",
       "  <thead>\n",
       "    <tr style=\"text-align: right;\">\n",
       "      <th>Predicted</th>\n",
       "      <th>0.0</th>\n",
       "      <th>1.0</th>\n",
       "    </tr>\n",
       "    <tr>\n",
       "      <th>Actual</th>\n",
       "      <th></th>\n",
       "      <th></th>\n",
       "    </tr>\n",
       "  </thead>\n",
       "  <tbody>\n",
       "    <tr>\n",
       "      <th>0</th>\n",
       "      <td>43411</td>\n",
       "      <td>13052</td>\n",
       "    </tr>\n",
       "    <tr>\n",
       "      <th>1</th>\n",
       "      <td>2452</td>\n",
       "      <td>2587</td>\n",
       "    </tr>\n",
       "  </tbody>\n",
       "</table>\n",
       "</div>"
      ],
      "text/plain": [
       "Predicted    0.0    1.0\n",
       "Actual                 \n",
       "0          43411  13052\n",
       "1           2452   2587"
      ]
     },
     "execution_count": 23,
     "metadata": {},
     "output_type": "execute_result"
    }
   ],
   "source": [
    "y_actu = pd.Series(prediction['actual'], name='Actual')\n",
    "y_pred = pd.Series(prediction['ypred_proba_bin'], name='Predicted')\n",
    "df_confusion = pd.crosstab(y_actu, y_pred)\n",
    "df_confusion"
   ]
  },
  {
   "cell_type": "code",
   "execution_count": 24,
   "metadata": {},
   "outputs": [
    {
     "name": "stdout",
     "output_type": "stream",
     "text": [
      "true positive rate:  0.513395514983\n"
     ]
    }
   ],
   "source": [
    "print('true positive rate: ', df_confusion[1][1] / (df_confusion[1][1] + df_confusion[0][1]))"
   ]
  },
  {
   "cell_type": "markdown",
   "metadata": {},
   "source": [
    "# Prediction on Test"
   ]
  },
  {
   "cell_type": "code",
   "execution_count": 7,
   "metadata": {},
   "outputs": [
    {
     "name": "stderr",
     "output_type": "stream",
     "text": [
      "/anaconda/lib/python3.6/site-packages/sklearn/base.py:311: UserWarning: Trying to unpickle estimator LabelEncoder from version 0.20.3 when using version 0.19.2. This might lead to breaking code or invalid results. Use at your own risk.\n",
      "  UserWarning)\n"
     ]
    }
   ],
   "source": [
    "import pickle\n",
    "path_to_tmo = '/Users/zhangyueying/Desktop/S_Analytics_Value_Chain/project/MSiA423-final-project-2019/models/risk-prediction.pkl'\n",
    "with open(path_to_tmo, \"rb\") as f:\n",
    "    model = pickle.load(f)"
   ]
  },
  {
   "cell_type": "code",
   "execution_count": 13,
   "metadata": {},
   "outputs": [
    {
     "name": "stderr",
     "output_type": "stream",
     "text": [
      "/anaconda/lib/python3.6/site-packages/ipykernel_launcher.py:6: SettingWithCopyWarning: \n",
      "A value is trying to be set on a copy of a slice from a DataFrame.\n",
      "Try using .loc[row_indexer,col_indexer] = value instead\n",
      "\n",
      "See the caveats in the documentation: http://pandas.pydata.org/pandas-docs/stable/indexing.html#indexing-view-versus-copy\n",
      "  \n"
     ]
    },
    {
     "data": {
      "text/html": [
       "<div>\n",
       "<style scoped>\n",
       "    .dataframe tbody tr th:only-of-type {\n",
       "        vertical-align: middle;\n",
       "    }\n",
       "\n",
       "    .dataframe tbody tr th {\n",
       "        vertical-align: top;\n",
       "    }\n",
       "\n",
       "    .dataframe thead th {\n",
       "        text-align: right;\n",
       "    }\n",
       "</style>\n",
       "<table border=\"1\" class=\"dataframe\">\n",
       "  <thead>\n",
       "    <tr style=\"text-align: right;\">\n",
       "      <th></th>\n",
       "      <th>DAYS_BIRTH</th>\n",
       "      <th>DAYS_EMPLOYED</th>\n",
       "      <th>DAYS_ID_PUBLISH</th>\n",
       "      <th>DAYS_LAST_PHONE_CHANGE</th>\n",
       "      <th>DAYS_EMPLOYED_PERC</th>\n",
       "      <th>PAYMENT_RATE</th>\n",
       "      <th>INCOME_CREDIT_PERC</th>\n",
       "      <th>ANNUITY_INCOME_PERC</th>\n",
       "      <th>BURO_DAYS_CREDIT_MEAN</th>\n",
       "      <th>BURO_DAYS_CREDIT_ENDDATE_MEAN</th>\n",
       "      <th>APPROVED_DAYS_DECISION_MEAN</th>\n",
       "      <th>INSTAL_DBD_MEAN</th>\n",
       "      <th>INSTAL_AMT_PAYMENT_MEAN</th>\n",
       "      <th>INSTAL_DAYS_ENTRY_PAYMENT_MEAN</th>\n",
       "      <th>prediction</th>\n",
       "    </tr>\n",
       "  </thead>\n",
       "  <tbody>\n",
       "    <tr>\n",
       "      <th>180270</th>\n",
       "      <td>-9296</td>\n",
       "      <td>-1968.0</td>\n",
       "      <td>-1952</td>\n",
       "      <td>-887.0</td>\n",
       "      <td>0.211704</td>\n",
       "      <td>0.045187</td>\n",
       "      <td>0.178763</td>\n",
       "      <td>0.252775</td>\n",
       "      <td>-518.833333</td>\n",
       "      <td>207.000000</td>\n",
       "      <td>-722.0</td>\n",
       "      <td>10.777778</td>\n",
       "      <td>29637.706667</td>\n",
       "      <td>-568.259259</td>\n",
       "      <td>0.077772</td>\n",
       "    </tr>\n",
       "    <tr>\n",
       "      <th>257477</th>\n",
       "      <td>-12597</td>\n",
       "      <td>-1656.0</td>\n",
       "      <td>-4117</td>\n",
       "      <td>0.0</td>\n",
       "      <td>0.131460</td>\n",
       "      <td>0.051276</td>\n",
       "      <td>0.189854</td>\n",
       "      <td>0.270080</td>\n",
       "      <td>-975.000000</td>\n",
       "      <td>801.454545</td>\n",
       "      <td>-656.0</td>\n",
       "      <td>10.600000</td>\n",
       "      <td>7385.634000</td>\n",
       "      <td>-575.600000</td>\n",
       "      <td>0.162429</td>\n",
       "    </tr>\n",
       "    <tr>\n",
       "      <th>282418</th>\n",
       "      <td>-17504</td>\n",
       "      <td>-2147.0</td>\n",
       "      <td>-1066</td>\n",
       "      <td>-604.0</td>\n",
       "      <td>0.122658</td>\n",
       "      <td>0.036921</td>\n",
       "      <td>0.256838</td>\n",
       "      <td>0.143750</td>\n",
       "      <td>-1290.200000</td>\n",
       "      <td>-1188.000000</td>\n",
       "      <td>-514.5</td>\n",
       "      <td>9.513514</td>\n",
       "      <td>29839.928108</td>\n",
       "      <td>-289.378378</td>\n",
       "      <td>0.058575</td>\n",
       "    </tr>\n",
       "    <tr>\n",
       "      <th>12975</th>\n",
       "      <td>-12900</td>\n",
       "      <td>-3896.0</td>\n",
       "      <td>-787</td>\n",
       "      <td>-1491.0</td>\n",
       "      <td>0.302016</td>\n",
       "      <td>0.044712</td>\n",
       "      <td>0.286021</td>\n",
       "      <td>0.156325</td>\n",
       "      <td>-809.000000</td>\n",
       "      <td>-237.500000</td>\n",
       "      <td>-1039.5</td>\n",
       "      <td>5.615385</td>\n",
       "      <td>78113.710385</td>\n",
       "      <td>-822.769231</td>\n",
       "      <td>0.074503</td>\n",
       "    </tr>\n",
       "    <tr>\n",
       "      <th>163064</th>\n",
       "      <td>-22392</td>\n",
       "      <td>NaN</td>\n",
       "      <td>-4826</td>\n",
       "      <td>-728.0</td>\n",
       "      <td>NaN</td>\n",
       "      <td>0.035919</td>\n",
       "      <td>0.115101</td>\n",
       "      <td>0.312063</td>\n",
       "      <td>-1492.333333</td>\n",
       "      <td>-985.000000</td>\n",
       "      <td>-772.4</td>\n",
       "      <td>14.365079</td>\n",
       "      <td>39714.162143</td>\n",
       "      <td>-461.714286</td>\n",
       "      <td>0.034711</td>\n",
       "    </tr>\n",
       "  </tbody>\n",
       "</table>\n",
       "</div>"
      ],
      "text/plain": [
       "        DAYS_BIRTH  DAYS_EMPLOYED  DAYS_ID_PUBLISH  DAYS_LAST_PHONE_CHANGE  \\\n",
       "180270       -9296        -1968.0            -1952                  -887.0   \n",
       "257477      -12597        -1656.0            -4117                     0.0   \n",
       "282418      -17504        -2147.0            -1066                  -604.0   \n",
       "12975       -12900        -3896.0             -787                 -1491.0   \n",
       "163064      -22392            NaN            -4826                  -728.0   \n",
       "\n",
       "        DAYS_EMPLOYED_PERC  PAYMENT_RATE  INCOME_CREDIT_PERC  \\\n",
       "180270            0.211704      0.045187            0.178763   \n",
       "257477            0.131460      0.051276            0.189854   \n",
       "282418            0.122658      0.036921            0.256838   \n",
       "12975             0.302016      0.044712            0.286021   \n",
       "163064                 NaN      0.035919            0.115101   \n",
       "\n",
       "        ANNUITY_INCOME_PERC  BURO_DAYS_CREDIT_MEAN  \\\n",
       "180270             0.252775            -518.833333   \n",
       "257477             0.270080            -975.000000   \n",
       "282418             0.143750           -1290.200000   \n",
       "12975              0.156325            -809.000000   \n",
       "163064             0.312063           -1492.333333   \n",
       "\n",
       "        BURO_DAYS_CREDIT_ENDDATE_MEAN  APPROVED_DAYS_DECISION_MEAN  \\\n",
       "180270                     207.000000                       -722.0   \n",
       "257477                     801.454545                       -656.0   \n",
       "282418                   -1188.000000                       -514.5   \n",
       "12975                     -237.500000                      -1039.5   \n",
       "163064                    -985.000000                       -772.4   \n",
       "\n",
       "        INSTAL_DBD_MEAN  INSTAL_AMT_PAYMENT_MEAN  \\\n",
       "180270        10.777778             29637.706667   \n",
       "257477        10.600000              7385.634000   \n",
       "282418         9.513514             29839.928108   \n",
       "12975          5.615385             78113.710385   \n",
       "163064        14.365079             39714.162143   \n",
       "\n",
       "        INSTAL_DAYS_ENTRY_PAYMENT_MEAN  prediction  \n",
       "180270                     -568.259259    0.077772  \n",
       "257477                     -575.600000    0.162429  \n",
       "282418                     -289.378378    0.058575  \n",
       "12975                      -822.769231    0.074503  \n",
       "163064                     -461.714286    0.034711  "
      ]
     },
     "execution_count": 13,
     "metadata": {},
     "output_type": "execute_result"
    }
   ],
   "source": [
    "sel_features = ['DAYS_BIRTH', 'DAYS_EMPLOYED', 'DAYS_ID_PUBLISH', 'DAYS_LAST_PHONE_CHANGE', \n",
    "        'DAYS_EMPLOYED_PERC', 'PAYMENT_RATE', 'INCOME_CREDIT_PERC', \n",
    "        'ANNUITY_INCOME_PERC', 'BURO_DAYS_CREDIT_MEAN', 'BURO_DAYS_CREDIT_ENDDATE_MEAN',\n",
    "        'APPROVED_DAYS_DECISION_MEAN', 'INSTAL_DBD_MEAN', 'INSTAL_AMT_PAYMENT_MEAN',\n",
    "        'INSTAL_DAYS_ENTRY_PAYMENT_MEAN']\n",
    "X_test['prediction'] = model.predict_proba(X_test[sel_features])[:, 1]\n",
    "sel_features2 = ['DAYS_BIRTH', 'DAYS_EMPLOYED', 'DAYS_ID_PUBLISH', 'DAYS_LAST_PHONE_CHANGE', \n",
    "        'DAYS_EMPLOYED_PERC', 'PAYMENT_RATE', 'INCOME_CREDIT_PERC', \n",
    "        'ANNUITY_INCOME_PERC', 'BURO_DAYS_CREDIT_MEAN', 'BURO_DAYS_CREDIT_ENDDATE_MEAN',\n",
    "        'APPROVED_DAYS_DECISION_MEAN', 'INSTAL_DBD_MEAN', 'INSTAL_AMT_PAYMENT_MEAN',\n",
    "        'INSTAL_DAYS_ENTRY_PAYMENT_MEAN','prediction']\n",
    "X_test[sel_features2].head()"
   ]
  }
 ],
 "metadata": {
  "kernelspec": {
   "display_name": "Python 3",
   "language": "python",
   "name": "python3"
  },
  "language_info": {
   "codemirror_mode": {
    "name": "ipython",
    "version": 3
   },
   "file_extension": ".py",
   "mimetype": "text/x-python",
   "name": "python",
   "nbconvert_exporter": "python",
   "pygments_lexer": "ipython3",
   "version": "3.6.8"
  }
 },
 "nbformat": 4,
 "nbformat_minor": 2
}
